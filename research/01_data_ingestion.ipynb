{
 "cells": [
  {
   "cell_type": "code",
   "execution_count": 1,
   "metadata": {},
   "outputs": [],
   "source": [
    "import os\n"
   ]
  },
  {
   "cell_type": "code",
   "execution_count": 3,
   "metadata": {},
   "outputs": [
    {
     "data": {
      "text/plain": [
       "'d:\\\\Nik\\\\UW-SoundSpeed'"
      ]
     },
     "execution_count": 3,
     "metadata": {},
     "output_type": "execute_result"
    }
   ],
   "source": [
    "pwd"
   ]
  },
  {
   "cell_type": "code",
   "execution_count": 2,
   "metadata": {},
   "outputs": [],
   "source": [
    "os.chdir('../')"
   ]
  },
  {
   "cell_type": "code",
   "execution_count": 4,
   "metadata": {},
   "outputs": [],
   "source": [
    "from dataclasses import dataclass\n",
    "from pathlib import Path\n",
    "import pandas as pd\n",
    "\n",
    "\n",
    "@dataclass(frozen=True)\n",
    "class DataIngestionConfig:\n",
    "    root_dir: Path\n",
    "    source_URL: str\n",
    "    local_data_file: Path\n",
    "    unzip_dir: Path"
   ]
  },
  {
   "cell_type": "code",
   "execution_count": 6,
   "metadata": {},
   "outputs": [],
   "source": [
    "from box.exceptions import BoxValueError\n",
    "from uwsoundspeed.constants import *\n",
    "from uwsoundspeed.utils.common import read_yaml, create_directories"
   ]
  },
  {
   "cell_type": "code",
   "execution_count": 7,
   "metadata": {},
   "outputs": [],
   "source": [
    "class ConfigurationManager:\n",
    "    def __init__(\n",
    "        self,\n",
    "        config_filepath = CONFIG_FILE_PATH,\n",
    "        params_filepath = PARAMS_FILE_PATH):\n",
    "\n",
    "        self.config = read_yaml(config_filepath)\n",
    "        self.params = read_yaml(params_filepath)\n",
    "\n",
    "        create_directories([self.config.artifacts_root])\n",
    "\n",
    "\n",
    "    \n",
    "    def get_data_ingestion_config(self) -> DataIngestionConfig:\n",
    "        config = self.config.data_ingestion\n",
    "\n",
    "        create_directories([config.root_dir])\n",
    "\n",
    "        data_ingestion_config = DataIngestionConfig(\n",
    "            root_dir=config.root_dir,\n",
    "            source_URL=config.source_URL,\n",
    "            local_data_file=config.local_data_file,\n",
    "            unzip_dir=config.unzip_dir \n",
    "        )\n",
    "\n",
    "        return data_ingestion_config"
   ]
  },
  {
   "cell_type": "code",
   "execution_count": 8,
   "metadata": {},
   "outputs": [],
   "source": [
    "import shutil\n",
    "import urllib.request as request\n",
    "import zipfile\n",
    "from uwsoundspeed import logger\n",
    "from uwsoundspeed.utils.common import get_size"
   ]
  },
  {
   "cell_type": "code",
   "execution_count": 9,
   "metadata": {},
   "outputs": [],
   "source": [
    "class DataIngestion:\n",
    "    def __init__(self, config: DataIngestionConfig):\n",
    "        self.config = config\n",
    "    \n",
    "    def handle_local_data(self):    \n",
    "        if not os.path.exists(self.config.local_data_file):\n",
    "            shutil.copy(self.config.source_URL, self.config.local_data_file)  # Assuming source_URL is the path to the local file\n",
    "            logger.info(f\"File copied to: {self.config.local_data_file}\")\n",
    "        else:\n",
    "            logger.info(f\"File already exists at destination: {self.config.local_data_file} of size: {get_size(Path(self.config.local_data_file))}\")\n",
    "\n",
    "\n",
    "\n",
    "    #in case if data need to download\n",
    "    # def download_file(self):\n",
    "    #     try:\n",
    "    #         if not self.config.local_data_file.exists():\n",
    "    #             filename, headers = request.urlretrieve(\n",
    "    #                 url=self.config.source_URL,\n",
    "    #                 filename=str(self.config.local_data_file)\n",
    "    #             )\n",
    "    #             logger.info(f\"{filename} downloaded with following info: \\n{headers}\")\n",
    "    #         else:\n",
    "    #             logger.info(f\"File already exists at: {self.config.local_data_file}\")\n",
    "    #     except Exception as e:\n",
    "    #         logger.error(f\"Failed to download file due to {e}\")\n",
    "    #         raise \n",
    "\n",
    "\n",
    "    \n",
    "    def extract_zip_file(self):\n",
    "        try:\n",
    "            with zipfile.ZipFile(self.config.local_data_file, 'r') as zip_ref:\n",
    "                zip_ref.extractall(self.config.unzip_dir)\n",
    "            logger.info(f\"Extracted zip file to {self.config.unzip_dir}\")\n",
    "        except Exception as e:\n",
    "            logger.error(f\"Failed to extract zip file due to {e}\")\n",
    "            raise"
   ]
  },
  {
   "cell_type": "code",
   "execution_count": 10,
   "metadata": {},
   "outputs": [
    {
     "name": "stdout",
     "output_type": "stream",
     "text": [
      "[2024-03-18 13:29:38,827: INFO: common: YAML file: config\\config.yaml loaded successfully]\n"
     ]
    },
    {
     "name": "stdout",
     "output_type": "stream",
     "text": [
      "[2024-03-18 13:29:38,843: INFO: common: YAML file: params.yaml loaded successfully]\n",
      "[2024-03-18 13:29:38,845: INFO: common: Directory created at: artifacts]\n",
      "[2024-03-18 13:29:38,847: INFO: common: Directory created at: artifacts/data_ingestion]\n",
      "[2024-03-18 13:29:40,719: INFO: 1420110592: File copied to: artifacts/data_ingestion/data.zip]\n",
      "[2024-03-18 13:30:00,170: INFO: 1420110592: Extracted zip file to artifacts/data_ingestion]\n"
     ]
    }
   ],
   "source": [
    "try:\n",
    "    config = ConfigurationManager()\n",
    "    data_ingestion_config = config.get_data_ingestion_config()\n",
    "    data_ingestion = DataIngestion(config=data_ingestion_config)\n",
    "    data_ingestion.handle_local_data()\n",
    "    data_ingestion.extract_zip_file()\n",
    "except Exception as e:\n",
    "    raise e"
   ]
  }
 ],
 "metadata": {
  "kernelspec": {
   "display_name": "Python 3",
   "language": "python",
   "name": "python3"
  },
  "language_info": {
   "codemirror_mode": {
    "name": "ipython",
    "version": 3
   },
   "file_extension": ".py",
   "mimetype": "text/x-python",
   "name": "python",
   "nbconvert_exporter": "python",
   "pygments_lexer": "ipython3",
   "version": "3.8.18"
  }
 },
 "nbformat": 4,
 "nbformat_minor": 2
}
